{
  "nbformat": 4,
  "nbformat_minor": 0,
  "metadata": {
    "colab": {
      "provenance": []
    },
    "kernelspec": {
      "name": "python3",
      "display_name": "Python 3"
    },
    "language_info": {
      "name": "python"
    }
  },
  "cells": [
    {
      "cell_type": "markdown",
      "source": [
        "# **Files, exceptional handling, logging and  memory management Questions**"
      ],
      "metadata": {
        "id": "fnqk7GWsyqhM"
      }
    },
    {
      "cell_type": "markdown",
      "source": [
        "1. What is the difference between interpreted and compiled languages?\n",
        "    -  Interpreted Languages (e.g., Python): Code is executed line-by-line at runtime by an interpreter.\n",
        "\n",
        "    -  Compiled Languages (e.g., C++): Code is translated into machine code by a compiler before execution.\n",
        "\n",
        "2. What is exception handling in Python?\n",
        "  -  Exception handling is the process of catching and managing errors during runtime using try, except, else, and finally blocks.\n",
        "3. What is the purpose of the finally block in exception handling?\n",
        "    -  It runs regardless of whether an exception occurs or not. Commonly used for cleanup actions like closing files or releasing resources.\n",
        "4. What is logging in Python?\n",
        "   -  Logging is a way to record messages (info, warnings, errors) during program execution for debugging, auditing, and monitoring.\n",
        "5. What is the significance of the __del__ method in Python?\n",
        "   -  This is a destructor method called when an object is about to be destroyed, typically used to free resources or perform cleanup tasks.\n",
        "6. What is the difference between import and from ... import in Python?\n",
        "   -  import module: You access via module.function().\n",
        "   \n",
        "  - from module import function: You use function() directly without prefixing the module name.\n",
        "7. How can you handle multiple exceptions in Python?\n",
        "   - Example:\n",
        "\n",
        "     try:\n",
        "\n",
        "       except (ValueError, TypeError) as e:\n",
        "\n",
        "        print(\"Handled:\", e)\n",
        "\n",
        "        Or multiple except blocks:\n",
        "\n",
        "        except ValueError:\n",
        "  \n",
        "        except TypeError:\n",
        "8. What is the purpose of the with statement when handling files in Python?\n",
        "   -  Ensures proper opening and closing of a file, even if an error occurs, making the code cleaner and safer.\n",
        "\n",
        "9. What is the difference between multithreading and multiprocessing?\n",
        "   -  Multithreading: Multiple threads share the same memory space. Ideal for I/O-bound tasks.\n",
        "\n",
        "  - Multiprocessing: Multiple processes have separate memory. Suitable for CPU-bound tasks.\n",
        "10. What are the advantages of using logging in a program?\n",
        "    -  Helps in debugging, tracking application behavior, and maintaining logs in production environments.\n",
        "\n",
        "    - Better than using print() as it supports log levels, file output, and formatting.\n",
        "11. What is memory management in Python?\n",
        "   -  Involves automatic allocation and deallocation of memory, handled by Python’s memory manager and garbage collector.\n",
        "12.What are the basic steps involved in exception handling in Python?\n",
        "   -  try: Block of code that may raise an exception.\n",
        "\n",
        "  -  except: Catches and handles the exception.\n",
        "\n",
        "  -  else: Executes if no exception is raised.\n",
        "\n",
        "   - finally: Always runs, for cleanup.\n",
        "\n",
        "13. Why is memory management important in Python?\n",
        "    - Prevents memory leaks, improves performance, and ensures efficient\n",
        "     resource usage.\n",
        "14. What is the role of try and except in exception handling?\n",
        "   - try: Contains code that may raise an exception.\n",
        "\n",
        "    - except: Defines how to respond to specific exceptions.\n",
        "15. How does Python's garbage collection system work?\n",
        "   - Uses reference counting and a cyclic garbage collector to clean up unused objects and free memory.\n",
        "16. What is the purpose of the else block in exception handling?\n",
        "   -  Executes only if no exceptions occur in the try block.\n",
        "17. What are the common logging levels in Python?\n",
        "    -  DEBUG, INFO, WARNING, ERROR, CRITICAL\n",
        "18. What is the difference between os.fork() and multiprocessing in Python?\n",
        "  -  os.fork(): Low-level process creation on Unix only.\n",
        "\n",
        "   - multiprocessing: High-level, cross-platform module for process-based parallelism.\n",
        "\n",
        "19. What is the importance of closing a file in Python?\n",
        "   -  Frees up system resources and ensures all buffered data is written to the file.\n",
        "\n",
        "20. What is the difference between file.read() and file.readline() in Python?\n",
        "  -  file.read(): Reads entire file.\n",
        "\n",
        "  -  file.readline(): Reads one line at a time.\n",
        "\n",
        "21. What is the logging module in Python used for?\n",
        "    -  A standard module to record and report log messages in a consistent and configurable manner.\n",
        "\n",
        "22. hat is the os module in Python used for in file handling?\n",
        "   -  Provides functions to interact with the operating system, e.g., os.remove(), os.rename(), os.path.exists().\n",
        "\n",
        "23. What are the challenges associated with memory management in Python?\n",
        "   -  Circular references, large object handling, managing memory leaks in long-running applications.\n",
        "\n",
        "24. How do you raise an exception manually in Python?\n",
        "   -  Example:\n",
        "\n",
        "        raise Exception(\"An error occurred\")\n",
        "      \n",
        "       raise ValueError(\"Invalid input\")\n",
        "25. Why is it important to use multithreading in certain applications?\n",
        "    -  Improves responsiveness in I/O-bound applications, such as GUIs or web servers, by performing background tasks concurrently."
      ],
      "metadata": {
        "id": "UNYzB3EDzLaF"
      }
    },
    {
      "cell_type": "markdown",
      "source": [
        "# **Practical Questions**"
      ],
      "metadata": {
        "id": "XTDB5fxhBVzu"
      }
    },
    {
      "cell_type": "markdown",
      "source": [
        "1. How can you open a file for writing in Python and write a string to it?"
      ],
      "metadata": {
        "id": "bEAp7VLfB6fF"
      }
    },
    {
      "cell_type": "code",
      "source": [
        "with open(\"example.txt\", \"w\") as file:\n",
        "    file.write(\"Hello, this is a test string.\")\n"
      ],
      "metadata": {
        "id": "Zot1vS5lFypa"
      },
      "execution_count": 5,
      "outputs": []
    },
    {
      "cell_type": "markdown",
      "source": [
        "2. Write a Python program to read the contents of a file and print each line"
      ],
      "metadata": {
        "id": "Nwlm6gX9F8bH"
      }
    },
    {
      "cell_type": "code",
      "source": [
        "with open(\"example.txt\", \"r\") as file:\n",
        "    for line in file:\n",
        "        print(line.strip())\n"
      ],
      "metadata": {
        "colab": {
          "base_uri": "https://localhost:8080/"
        },
        "id": "i-b5I8CsGFkh",
        "outputId": "e50ac063-3c26-4146-c48b-8d20562dbadf"
      },
      "execution_count": 6,
      "outputs": [
        {
          "output_type": "stream",
          "name": "stdout",
          "text": [
            "Hello, this is a test string.\n"
          ]
        }
      ]
    },
    {
      "cell_type": "markdown",
      "source": [
        "3. How would you handle a case where the file doesn't exist while trying to open it for reading"
      ],
      "metadata": {
        "id": "ZNFHOjwiGKZ8"
      }
    },
    {
      "cell_type": "code",
      "source": [
        "try:\n",
        "    with open(\"nonexistent.txt\", \"r\") as file:\n",
        "        print(file.read())\n",
        "except FileNotFoundError:\n",
        "    print(\"File does not exist.\")\n"
      ],
      "metadata": {
        "colab": {
          "base_uri": "https://localhost:8080/"
        },
        "id": "UhQomHSCGPE1",
        "outputId": "ae855dda-2029-41a8-cec4-053e32a07f4d"
      },
      "execution_count": 7,
      "outputs": [
        {
          "output_type": "stream",
          "name": "stdout",
          "text": [
            "File does not exist.\n"
          ]
        }
      ]
    },
    {
      "cell_type": "markdown",
      "source": [
        "4. Write a Python script that reads from one file and writes its content to another file."
      ],
      "metadata": {
        "id": "p-_6lH_zGTJp"
      }
    },
    {
      "cell_type": "code",
      "source": [
        "def copy_file(source_path, destination_path):\n",
        "    try:\n",
        "        with open(source_path, \"r\") as source_file:\n",
        "            content = source_file.read()\n",
        "        with open(destination_path, \"w\") as destination_file:\n",
        "            destination_file.write(content)\n",
        "        print(f\"Content copied from '{source_path}' to '{destination_path}' successfully.\")\n",
        "    except FileNotFoundError:\n",
        "        print(f\"The source file '{source_path}' was not found.\")\n",
        "    except IOError as e:\n",
        "        print(f\"An I/O error occurred: {e}\")\n",
        "\n",
        "copy_file(\"source.txt\", \"destination.txt\")\n",
        "\n",
        "\n"
      ],
      "metadata": {
        "colab": {
          "base_uri": "https://localhost:8080/"
        },
        "id": "E4N8ohxZGYlI",
        "outputId": "72ce241c-a132-497f-cb75-183bf530355e"
      },
      "execution_count": 14,
      "outputs": [
        {
          "output_type": "stream",
          "name": "stdout",
          "text": [
            "The source file 'source.txt' was not found.\n"
          ]
        }
      ]
    },
    {
      "cell_type": "markdown",
      "source": [
        "5. How would you catch and handle division by zero error in Python?"
      ],
      "metadata": {
        "id": "tRiX_-FOG7z9"
      }
    },
    {
      "cell_type": "code",
      "source": [
        "try:\n",
        "    result = 10 / 0\n",
        "except ZeroDivisionError:\n",
        "    print(\"You can't divide by zero!\")\n"
      ],
      "metadata": {
        "colab": {
          "base_uri": "https://localhost:8080/"
        },
        "id": "8aZdWSRHHGQD",
        "outputId": "077c824d-b1a2-4805-ba64-c5e3fe00b0a0"
      },
      "execution_count": 15,
      "outputs": [
        {
          "output_type": "stream",
          "name": "stdout",
          "text": [
            "You can't divide by zero!\n"
          ]
        }
      ]
    },
    {
      "cell_type": "markdown",
      "source": [
        "6. Write a Python program that logs an error message to a log file when a division by zero exception occurs."
      ],
      "metadata": {
        "id": "iYw_ADOkHIle"
      }
    },
    {
      "cell_type": "code",
      "source": [
        "import logging\n",
        "\n",
        "logging.basicConfig(filename='error.log', level=logging.ERROR)\n",
        "\n",
        "try:\n",
        "    result = 10 / 0\n",
        "except ZeroDivisionError as e:\n",
        "    logging.error(f\"Division by zero error: {e}\")\n"
      ],
      "metadata": {
        "colab": {
          "base_uri": "https://localhost:8080/"
        },
        "id": "KL2euOaeHNnS",
        "outputId": "459985fd-4eb4-4a17-9e5f-5de18f2a4b2a"
      },
      "execution_count": 16,
      "outputs": [
        {
          "output_type": "stream",
          "name": "stderr",
          "text": [
            "ERROR:root:Division by zero error: division by zero\n"
          ]
        }
      ]
    },
    {
      "cell_type": "markdown",
      "source": [
        "7.How do you log information at different levels (INFO, ERROR, WARNING) in Python using the logging module?"
      ],
      "metadata": {
        "id": "9zmur9i8HRe2"
      }
    },
    {
      "cell_type": "code",
      "source": [
        "import logging\n",
        "\n",
        "logging.basicConfig(level=logging.DEBUG)\n",
        "\n",
        "logging.info(\"This is an info message.\")\n",
        "logging.warning(\"This is a warning message.\")\n",
        "logging.error(\"This is an error message.\")\n"
      ],
      "metadata": {
        "colab": {
          "base_uri": "https://localhost:8080/"
        },
        "id": "WWPKbTcOHWxn",
        "outputId": "f77a520b-3ed6-4e32-96ea-ad4df34407e8"
      },
      "execution_count": 17,
      "outputs": [
        {
          "output_type": "stream",
          "name": "stderr",
          "text": [
            "WARNING:root:This is a warning message.\n",
            "ERROR:root:This is an error message.\n"
          ]
        }
      ]
    },
    {
      "cell_type": "markdown",
      "source": [
        "8. Write a program to handle a file opening error using exception handling."
      ],
      "metadata": {
        "id": "V5rdX57rHaMC"
      }
    },
    {
      "cell_type": "code",
      "source": [
        "try:\n",
        "    with open(\"somefile.txt\", \"r\") as file:\n",
        "        content = file.read()\n",
        "except IOError:\n",
        "    print(\"An error occurred while opening the file.\")\n"
      ],
      "metadata": {
        "colab": {
          "base_uri": "https://localhost:8080/"
        },
        "id": "k_4PTCjSHfkn",
        "outputId": "212df12a-186f-49cc-fbb3-2cf253b762e8"
      },
      "execution_count": 18,
      "outputs": [
        {
          "output_type": "stream",
          "name": "stdout",
          "text": [
            "An error occurred while opening the file.\n"
          ]
        }
      ]
    },
    {
      "cell_type": "markdown",
      "source": [
        "9. How can you read a file line by line and store its content in a list in Python."
      ],
      "metadata": {
        "id": "RQHD3POpHj0p"
      }
    },
    {
      "cell_type": "code",
      "source": [
        "with open(\"example.txt\", \"r\") as file:\n",
        "    lines = file.readlines()\n",
        "print(lines)\n"
      ],
      "metadata": {
        "colab": {
          "base_uri": "https://localhost:8080/"
        },
        "id": "tqSIt9zmHpEO",
        "outputId": "a5e048e2-8646-4935-d8aa-74c377d10bd7"
      },
      "execution_count": 19,
      "outputs": [
        {
          "output_type": "stream",
          "name": "stdout",
          "text": [
            "['Hello, this is a test string.']\n"
          ]
        }
      ]
    },
    {
      "cell_type": "markdown",
      "source": [
        "10. How can you append data to an existing file in Python?"
      ],
      "metadata": {
        "id": "Ds4WsrxiHtFw"
      }
    },
    {
      "cell_type": "code",
      "source": [
        "with open(\"example.txt\", \"a\") as file:\n",
        "    file.write(\"\\nAppended line.\")\n"
      ],
      "metadata": {
        "id": "nUey5tSBHyN4"
      },
      "execution_count": 26,
      "outputs": []
    },
    {
      "cell_type": "markdown",
      "source": [
        "11.  Write a Python program that uses a try-except block to handle an error when attempting to access a dictionary key that doesn't exist."
      ],
      "metadata": {
        "id": "58e7G15sH3PX"
      }
    },
    {
      "cell_type": "code",
      "source": [
        "my_dict = {\"name\": \"Arju\"}\n",
        "\n",
        "try:\n",
        "    print(my_dict[\"age\"])\n",
        "except KeyError:\n",
        "    print(\"Key not found in dictionary.\")\n"
      ],
      "metadata": {
        "colab": {
          "base_uri": "https://localhost:8080/"
        },
        "id": "cgLEvDRjH_wD",
        "outputId": "a8a76e7d-f73e-46a1-c15b-49d94b0a3535"
      },
      "execution_count": 25,
      "outputs": [
        {
          "output_type": "stream",
          "name": "stdout",
          "text": [
            "Key not found in dictionary.\n"
          ]
        }
      ]
    },
    {
      "cell_type": "markdown",
      "source": [
        "12. Write a program that demonstrates using multiple except blocks to handle different types of exceptions."
      ],
      "metadata": {
        "id": "8QVC3Wx-IZLQ"
      }
    },
    {
      "cell_type": "code",
      "source": [
        "try:\n",
        "    x = [1, 2]\n",
        "    print(x[5])\n",
        "    y = 10 / 0\n",
        "except IndexError:\n",
        "    print(\"Index out of range.\")\n",
        "except ZeroDivisionError:\n",
        "    print(\"Cannot divide by zero.\")\n"
      ],
      "metadata": {
        "colab": {
          "base_uri": "https://localhost:8080/"
        },
        "id": "cWKg2P-RIfob",
        "outputId": "8eba193d-ec95-46e4-a675-73b2bc70e2d9"
      },
      "execution_count": 27,
      "outputs": [
        {
          "output_type": "stream",
          "name": "stdout",
          "text": [
            "Index out of range.\n"
          ]
        }
      ]
    },
    {
      "cell_type": "markdown",
      "source": [
        "13. How would you check if a file exists before attempting to read it in Python?"
      ],
      "metadata": {
        "id": "QksESALPIjF-"
      }
    },
    {
      "cell_type": "code",
      "source": [
        "import os\n",
        "\n",
        "if os.path.exists(\"example.txt\"):\n",
        "    with open(\"example.txt\", \"r\") as file:\n",
        "        print(file.read())\n",
        "else:\n",
        "    print(\"File does not exist.\")\n"
      ],
      "metadata": {
        "colab": {
          "base_uri": "https://localhost:8080/"
        },
        "id": "dU6GwzrCIp32",
        "outputId": "a9f94809-ba82-4ec4-ded7-7665216fcfaa"
      },
      "execution_count": 29,
      "outputs": [
        {
          "output_type": "stream",
          "name": "stdout",
          "text": [
            "Hello, this is a test string.\n",
            "Appended line.\n",
            "Appended line.\n",
            "Appended line.\n",
            "Appended line.\n"
          ]
        }
      ]
    },
    {
      "cell_type": "markdown",
      "source": [
        "14. Write a program that uses the logging module to log both informational and error messages."
      ],
      "metadata": {
        "id": "JXpzcCKRIv1K"
      }
    },
    {
      "cell_type": "code",
      "source": [
        "import logging\n",
        "\n",
        "logging.basicConfig(filename=\"app.log\", level=logging.INFO)\n",
        "\n",
        "logging.info(\"Program started.\")\n",
        "\n",
        "try:\n",
        "    1 / 0\n",
        "except ZeroDivisionError:\n",
        "    logging.error(\"Tried to divide by zero.\")\n"
      ],
      "metadata": {
        "colab": {
          "base_uri": "https://localhost:8080/"
        },
        "id": "F_5V37DPI3-X",
        "outputId": "6c8f2b59-cc92-4d0a-d685-32a89ac545f6"
      },
      "execution_count": 30,
      "outputs": [
        {
          "output_type": "stream",
          "name": "stderr",
          "text": [
            "ERROR:root:Tried to divide by zero.\n"
          ]
        }
      ]
    },
    {
      "cell_type": "markdown",
      "source": [
        "15. Write a Python program that prints the content of a file and handles the case when the file is empty."
      ],
      "metadata": {
        "id": "CwJcghIII73M"
      }
    },
    {
      "cell_type": "code",
      "source": [
        "with open(\"example.txt\", \"r\") as file:\n",
        "    content = file.read()\n",
        "    if content:\n",
        "        print(content)\n",
        "    else:\n",
        "        print(\"File is empty.\")\n"
      ],
      "metadata": {
        "colab": {
          "base_uri": "https://localhost:8080/"
        },
        "id": "9gUQk39TJAJq",
        "outputId": "9cfa2217-c862-422f-9117-8edfc802f2c5"
      },
      "execution_count": 32,
      "outputs": [
        {
          "output_type": "stream",
          "name": "stdout",
          "text": [
            "Hello, this is a test string.\n",
            "Appended line.\n",
            "Appended line.\n",
            "Appended line.\n",
            "Appended line.\n"
          ]
        }
      ]
    },
    {
      "cell_type": "markdown",
      "source": [
        "16.  Demonstrate how to use memory profiling to check the memory usage of a small program."
      ],
      "metadata": {
        "id": "6fJv5rlXJERA"
      }
    },
    {
      "cell_type": "code",
      "source": [
        "from memory_profiler import memory_usage\n",
        "\n",
        "def create_large_list():\n",
        "    a = [i for i in range(1000000)]\n",
        "    b = sum(a)\n",
        "    return b\n",
        "\n",
        "mem_usage = memory_usage(create_large_list)\n",
        "print(f\"Memory usage: {mem_usage} MiB\")\n"
      ],
      "metadata": {
        "id": "GGQT4w8QLtqc"
      },
      "execution_count": null,
      "outputs": []
    },
    {
      "cell_type": "markdown",
      "source": [
        "17. Write a Python program to create and write a list of numbers to a file, one number per line."
      ],
      "metadata": {
        "id": "eYX3LowmLujJ"
      }
    },
    {
      "cell_type": "code",
      "source": [
        "numbers = [1, 2, 3, 4, 5]\n",
        "with open(\"numbers.txt\", \"w\") as file:\n",
        "    for number in numbers:\n",
        "        file.write(f\"{number}\\n\")\n"
      ],
      "metadata": {
        "id": "cZk76VUJL2QQ"
      },
      "execution_count": 39,
      "outputs": []
    },
    {
      "cell_type": "markdown",
      "source": [
        "18. How would you implement a basic logging setup that logs to a file with rotation after 1MB?"
      ],
      "metadata": {
        "id": "uh36vblhMDJ5"
      }
    },
    {
      "cell_type": "code",
      "source": [
        "import logging\n",
        "from logging.handlers import RotatingFileHandler\n",
        "\n",
        "handler = RotatingFileHandler(\"app.log\", maxBytes=1024*1024, backupCount=3)\n",
        "logging.basicConfig(handlers=[handler], level=logging.INFO)\n",
        "\n",
        "logging.info(\"This is a test log.\")\n"
      ],
      "metadata": {
        "id": "0qnaQV_jMHPs"
      },
      "execution_count": 40,
      "outputs": []
    },
    {
      "cell_type": "markdown",
      "source": [
        "19. Write a program that handles both IndexError and KeyError using a try-except block?"
      ],
      "metadata": {
        "id": "SIJkG_mbMN_K"
      }
    },
    {
      "cell_type": "code",
      "source": [
        "data = [1, 2, 3]\n",
        "dict_data = {\"a\": 1}\n",
        "\n",
        "try:\n",
        "    print(data[10])\n",
        "    print(dict_data[\"b\"])\n",
        "except IndexError:\n",
        "    print(\"List index out of range.\")\n",
        "except KeyError:\n",
        "    print(\"Dictionary key not found.\")\n"
      ],
      "metadata": {
        "id": "mOKUsPW-MP9G",
        "outputId": "d1b5bd44-9d2b-4f07-ed49-b185e8c59590",
        "colab": {
          "base_uri": "https://localhost:8080/"
        }
      },
      "execution_count": 41,
      "outputs": [
        {
          "output_type": "stream",
          "name": "stdout",
          "text": [
            "List index out of range.\n"
          ]
        }
      ]
    },
    {
      "cell_type": "markdown",
      "source": [
        "20. F How would you open a file and read its contents using a context manager in Python?"
      ],
      "metadata": {
        "id": "a_01pTDFMWQE"
      }
    },
    {
      "cell_type": "code",
      "source": [
        "with open(\"example.txt\", \"r\") as file:\n",
        "    content = file.read()\n",
        "    print(content)\n"
      ],
      "metadata": {
        "id": "S2rY_n_FMbvS",
        "outputId": "1c9ef8cf-4e57-4398-da28-1418b8d28329",
        "colab": {
          "base_uri": "https://localhost:8080/"
        }
      },
      "execution_count": 42,
      "outputs": [
        {
          "output_type": "stream",
          "name": "stdout",
          "text": [
            "Hello, this is a test string.\n",
            "Appended line.\n",
            "Appended line.\n",
            "Appended line.\n",
            "Appended line.\n"
          ]
        }
      ]
    },
    {
      "cell_type": "markdown",
      "source": [
        "21. Write a Python program that reads a file and prints the number of occurrences of a specific word."
      ],
      "metadata": {
        "id": "tyndGQFoMehT"
      }
    },
    {
      "cell_type": "code",
      "source": [
        "word = \"hello\"\n",
        "count = 0\n",
        "\n",
        "with open(\"example.txt\", \"r\") as file:\n",
        "    for line in file:\n",
        "        count += line.lower().split().count(word.lower())\n",
        "\n",
        "print(f\"'{word}' occurred {count} times.\")\n"
      ],
      "metadata": {
        "id": "4JQWXzGqMkXF",
        "outputId": "6ec22c7b-8bec-41d8-9669-63799ed28b8f",
        "colab": {
          "base_uri": "https://localhost:8080/"
        }
      },
      "execution_count": 43,
      "outputs": [
        {
          "output_type": "stream",
          "name": "stdout",
          "text": [
            "'hello' occurred 0 times.\n"
          ]
        }
      ]
    },
    {
      "cell_type": "markdown",
      "source": [
        "22. How can you check if a file is empty before attempting to read its contents?"
      ],
      "metadata": {
        "id": "N-9RpRRtMnrE"
      }
    },
    {
      "cell_type": "code",
      "source": [
        "import os\n",
        "\n",
        "if os.stat(\"example.txt\").st_size == 0:\n",
        "    print(\"File is empty.\")\n",
        "else:\n",
        "    with open(\"example.txt\", \"r\") as file:\n",
        "        print(file.read())\n"
      ],
      "metadata": {
        "id": "UbGzP6qZMtWz",
        "outputId": "9b17cb80-ba36-4ba7-dab7-c89b7b07181f",
        "colab": {
          "base_uri": "https://localhost:8080/"
        }
      },
      "execution_count": 44,
      "outputs": [
        {
          "output_type": "stream",
          "name": "stdout",
          "text": [
            "Hello, this is a test string.\n",
            "Appended line.\n",
            "Appended line.\n",
            "Appended line.\n",
            "Appended line.\n"
          ]
        }
      ]
    },
    {
      "cell_type": "markdown",
      "source": [
        "23. Write a Python program that writes to a log file when an error occurs during file handling."
      ],
      "metadata": {
        "id": "PfdUSuG0MzK-"
      }
    },
    {
      "cell_type": "code",
      "source": [
        "import logging\n",
        "\n",
        "logging.basicConfig(filename=\"file_errors.log\", level=logging.ERROR)\n",
        "\n",
        "try:\n",
        "    with open(\"nonexistent.txt\", \"r\") as file:\n",
        "        print(file.read())\n",
        "except Exception as e:\n",
        "    logging.error(f\"Error reading file: {e}\")\n"
      ],
      "metadata": {
        "id": "uvcPdG47M2_B",
        "outputId": "3e9b948d-9890-41fb-81e6-da2b6b724638",
        "colab": {
          "base_uri": "https://localhost:8080/"
        }
      },
      "execution_count": 48,
      "outputs": [
        {
          "output_type": "stream",
          "name": "stderr",
          "text": [
            "ERROR:root:Error reading file: [Errno 2] No such file or directory: 'nonexistent.txt'\n"
          ]
        }
      ]
    }
  ]
}